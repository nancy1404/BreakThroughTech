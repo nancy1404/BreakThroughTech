{
 "cells": [
  {
   "cell_type": "markdown",
   "metadata": {},
   "source": [
    "# Lab 8: Define and Solve an ML Problem of Your Choosing"
   ]
  },
  {
   "cell_type": "code",
   "execution_count": 1,
   "metadata": {},
   "outputs": [],
   "source": [
    "import pandas as pd\n",
    "import numpy as np\n",
    "import os \n",
    "import matplotlib.pyplot as plt\n",
    "import seaborn as sns"
   ]
  },
  {
   "cell_type": "markdown",
   "metadata": {},
   "source": [
    "In this lab assignment, you will follow the machine learning life cycle and implement a model to solve a machine learning problem of your choosing. You will select a data set and choose a predictive problem that the data set supports.  You will then inspect the data with your problem in mind and begin to formulate a  project plan. You will then implement the machine learning project plan. \n",
    "\n",
    "You will complete the following tasks:\n",
    "\n",
    "1. Build Your DataFrame\n",
    "2. Define Your ML Problem\n",
    "3. Perform exploratory data analysis to understand your data.\n",
    "4. Define Your Project Plan\n",
    "5. Implement Your Project Plan:\n",
    "    * Prepare your data for your model.\n",
    "    * Fit your model to the training data and evaluate your model.\n",
    "    * Improve your model's performance."
   ]
  },
  {
   "cell_type": "markdown",
   "metadata": {},
   "source": [
    "## Part 1: Build Your DataFrame\n",
    "\n",
    "You will have the option to choose one of four data sets that you have worked with in this program:\n",
    "\n",
    "* The \"census\" data set that contains Census information from 1994: `censusData.csv`\n",
    "* Airbnb NYC \"listings\" data set: `airbnbListingsData.csv`\n",
    "* World Happiness Report (WHR) data set: `WHR2018Chapter2OnlineData.csv`\n",
    "* Book Review data set: `bookReviewsData.csv`\n",
    "\n",
    "Note that these are variations of the data sets that you have worked with in this program. For example, some do not include some of the preprocessing necessary for specific models. \n",
    "\n",
    "#### Load a Data Set and Save it as a Pandas DataFrame\n",
    "\n",
    "The code cell below contains filenames (path + filename) for each of the four data sets available to you.\n",
    "\n",
    "<b>Task:</b> In the code cell below, use the same method you have been using to load the data using `pd.read_csv()` and save it to DataFrame `df`. \n",
    "\n",
    "You can load each file as a new DataFrame to inspect the data before choosing your data set."
   ]
  },
  {
   "cell_type": "code",
   "execution_count": 2,
   "metadata": {},
   "outputs": [
    {
     "data": {
      "text/html": [
       "<div>\n",
       "<style scoped>\n",
       "    .dataframe tbody tr th:only-of-type {\n",
       "        vertical-align: middle;\n",
       "    }\n",
       "\n",
       "    .dataframe tbody tr th {\n",
       "        vertical-align: top;\n",
       "    }\n",
       "\n",
       "    .dataframe thead th {\n",
       "        text-align: right;\n",
       "    }\n",
       "</style>\n",
       "<table border=\"1\" class=\"dataframe\">\n",
       "  <thead>\n",
       "    <tr style=\"text-align: right;\">\n",
       "      <th></th>\n",
       "      <th>Review</th>\n",
       "      <th>Positive Review</th>\n",
       "    </tr>\n",
       "  </thead>\n",
       "  <tbody>\n",
       "    <tr>\n",
       "      <th>0</th>\n",
       "      <td>This was perhaps the best of Johannes Steinhof...</td>\n",
       "      <td>True</td>\n",
       "    </tr>\n",
       "    <tr>\n",
       "      <th>1</th>\n",
       "      <td>This very fascinating book is a story written ...</td>\n",
       "      <td>True</td>\n",
       "    </tr>\n",
       "    <tr>\n",
       "      <th>2</th>\n",
       "      <td>The four tales in this collection are beautifu...</td>\n",
       "      <td>True</td>\n",
       "    </tr>\n",
       "    <tr>\n",
       "      <th>3</th>\n",
       "      <td>The book contained more profanity than I expec...</td>\n",
       "      <td>False</td>\n",
       "    </tr>\n",
       "    <tr>\n",
       "      <th>4</th>\n",
       "      <td>We have now entered a second time of deep conc...</td>\n",
       "      <td>True</td>\n",
       "    </tr>\n",
       "  </tbody>\n",
       "</table>\n",
       "</div>"
      ],
      "text/plain": [
       "                                              Review  Positive Review\n",
       "0  This was perhaps the best of Johannes Steinhof...             True\n",
       "1  This very fascinating book is a story written ...             True\n",
       "2  The four tales in this collection are beautifu...             True\n",
       "3  The book contained more profanity than I expec...            False\n",
       "4  We have now entered a second time of deep conc...             True"
      ]
     },
     "execution_count": 2,
     "metadata": {},
     "output_type": "execute_result"
    }
   ],
   "source": [
    "# File names of the four data sets\n",
    "adultDataSet_filename = os.path.join(os.getcwd(), \"data\", \"censusData.csv\")\n",
    "airbnbDataSet_filename = os.path.join(os.getcwd(), \"data\", \"airbnbListingsData.csv\")\n",
    "WHRDataSet_filename = os.path.join(os.getcwd(), \"data\", \"WHR2018Chapter2OnlineData.csv\")\n",
    "bookReviewDataSet_filename = os.path.join(os.getcwd(), \"data\", \"bookReviewsData.csv\")\n",
    "\n",
    "\n",
    "df = pd.read_csv(bookReviewDataSet_filename)\n",
    "\n",
    "df.head()"
   ]
  },
  {
   "cell_type": "markdown",
   "metadata": {},
   "source": [
    "## Part 2: Define Your ML Problem\n",
    "\n",
    "Next you will formulate your ML Problem. In the markdown cell below, answer the following questions:\n",
    "\n",
    "1. List the data set you have chosen.\n",
    "2. What will you be predicting? What is the label?\n",
    "3. Is this a supervised or unsupervised learning problem? Is this a clustering, classification or regression problem? Is it a binary classificaiton or multi-class classifiction problem?\n",
    "4. What are your features? (note: this list may change after your explore your data)\n",
    "5. Explain why this is an important problem. In other words, how would a company create value with a model that predicts this label?"
   ]
  },
  {
   "cell_type": "markdown",
   "metadata": {},
   "source": [
    "\n",
    "1. Dataset Chosen : bookReviewsData.csv (Book Reviews dataset from Amazon)\n",
    "\n",
    "2. Predicted Goal (Label): I will be predicting whether a book review is postiive or nagative. The label is the Positive Review column, which. is a boolean (True = positive, False = negative).\n",
    "\n",
    "3. Type of ML Problem: This is a supervised learning problem because we are working with labeled data. It is a classification task -- specifically, a binary classification problem since there are only two possible outputs: positive or negative.\n",
    "\n",
    "4. Features: The primary feature is the text content of the review (Review column). I will later convert this into numerical features using TF-IDF vectorization. Additional preprocessing and feature engineering (e.g., review length) may be considered based on EDA.\n",
    "\n",
    "5. Why this problem matters: Predicting sentiment in book reviews is valuable for both readers and publishers. A model like this can help automatically flag or summarize review sentiment, improve recommendation systems, detect fake or misleading reviews, and provide insights into customer satisfaction trends. For companies like Amazon, this kind of model can enhance the user experience and drive better product visibility and engagement."
   ]
  },
  {
   "cell_type": "markdown",
   "metadata": {},
   "source": [
    "## Part 3: Understand Your Data\n",
    "\n",
    "The next step is to perform exploratory data analysis. Inspect and analyze your data set with your machine learning problem in mind. Consider the following as you inspect your data:\n",
    "\n",
    "1. What data preparation techniques would you like to use? These data preparation techniques may include:\n",
    "\n",
    "    * addressing missingness, such as replacing missing values with means\n",
    "    * finding and replacing outliers\n",
    "    * renaming features and labels\n",
    "    * finding and replacing outliers\n",
    "    * performing feature engineering techniques such as one-hot encoding on categorical features\n",
    "    * selecting appropriate features and removing irrelevant features\n",
    "    * performing specific data cleaning and preprocessing techniques for an NLP problem\n",
    "    * addressing class imbalance in your data sample to promote fair AI\n",
    "    \n",
    "\n",
    "2. What machine learning model (or models) you would like to use that is suitable for your predictive problem and data?\n",
    "    * Are there other data preparation techniques that you will need to apply to build a balanced modeling data set for your problem and model? For example, will you need to scale your data?\n",
    " \n",
    " \n",
    "3. How will you evaluate and improve the model's performance?\n",
    "    * Are there specific evaluation metrics and methods that are appropriate for your model?\n",
    "    \n",
    "\n",
    "Think of the different techniques you have used to inspect and analyze your data in this course. These include using Pandas to apply data filters, using the Pandas `describe()` method to get insight into key statistics for each column, using the Pandas `dtypes` property to inspect the data type of each column, and using Matplotlib and Seaborn to detect outliers and visualize relationships between features and labels. If you are working on a classification problem, use techniques you have learned to determine if there is class imbalance.\n",
    "\n",
    "<b>Task</b>: Use the techniques you have learned in this course to inspect and analyze your data. You can import additional packages that you have used in this course that you will need to perform this task.\n",
    "\n",
    "<b>Note</b>: You can add code cells if needed by going to the <b>Insert</b> menu and clicking on <b>Insert Cell Below</b> in the drop-drown menu."
   ]
  },
  {
   "cell_type": "code",
   "execution_count": 3,
   "metadata": {},
   "outputs": [
    {
     "name": "stdout",
     "output_type": "stream",
     "text": [
      "<class 'pandas.core.frame.DataFrame'>\n",
      "RangeIndex: 1973 entries, 0 to 1972\n",
      "Data columns (total 2 columns):\n",
      " #   Column           Non-Null Count  Dtype \n",
      "---  ------           --------------  ----- \n",
      " 0   Review           1973 non-null   object\n",
      " 1   Positive Review  1973 non-null   bool  \n",
      "dtypes: bool(1), object(1)\n",
      "memory usage: 17.5+ KB\n"
     ]
    }
   ],
   "source": [
    "# YOUR CODE HERE\n",
    "df. info()"
   ]
  },
  {
   "cell_type": "code",
   "execution_count": 4,
   "metadata": {},
   "outputs": [
    {
     "name": "stdout",
     "output_type": "stream",
     "text": [
      "False    993\n",
      "True     980\n",
      "Name: Positive Review, dtype: int64\n"
     ]
    },
    {
     "data": {
      "image/png": "[encoded data removed]",
      "text/plain": [
       "<Figure size 432x288 with 1 Axes>"
      ]
     },
     "metadata": {
      "needs_background": "light"
     },
     "output_type": "display_data"
    }
   ],
   "source": [
    "# count how many True (positive) vs False (negative) reviews there are\n",
    "print(df['Positive Review'].value_counts())\n",
    "\n",
    "# visualize the class distribution using a bar chart\n",
    "sns.countplot(data=df, x = 'Positive Review')\n",
    "plt.title(\"Distribution of Positive vs Negative Reviews\")\n",
    "plt.show()"
   ]
  },
  {
   "cell_type": "code",
   "execution_count": 5,
   "metadata": {},
   "outputs": [],
   "source": [
    "# add column for the number of characters in each review\n",
    "df['review_length'] = df['Review'].apply(len)\n",
    "\n",
    "# add a column for the number of words in each review\n",
    "df['word_count'] = df['Review'].apply(lambda x: len(x.split()))"
   ]
  },
  {
   "cell_type": "code",
   "execution_count": 6,
   "metadata": {},
   "outputs": [
    {
     "name": "stdout",
     "output_type": "stream",
     "text": [
      "       review_length   word_count\n",
      "count    1973.000000  1973.000000\n",
      "mean      933.336036   160.943234\n",
      "std      1450.187183   236.136329\n",
      "min        59.000000    11.000000\n",
      "25%       331.000000    59.000000\n",
      "50%       586.000000   103.000000\n",
      "75%      1065.000000   183.000000\n",
      "max     32467.000000  5167.000000\n"
     ]
    }
   ],
   "source": [
    "# show summary stats like mean, min, max for review length and word count\n",
    "print(df[['review_length', 'word_count']].describe())"
   ]
  },
  {
   "cell_type": "code",
   "execution_count": 7,
   "metadata": {},
   "outputs": [
    {
     "data": {
      "image/png": "[encoded data removed]",
      "text/plain": [
       "<Figure size 864x360 with 2 Axes>"
      ]
     },
     "metadata": {
      "needs_background": "light"
     },
     "output_type": "display_data"
    }
   ],
   "source": [
    "#create figure with 2 subplots side by side\n",
    "plt.figure(figsize=(12, 5))\n",
    "\n",
    "# boxplot for review length\n",
    "plt.subplot(1, 2, 1)\n",
    "sns.boxplot(x=df['review_length'])\n",
    "plt.title('Boxplot of Review Length')\n",
    "plt.xlabel('Number of Characters')\n",
    "\n",
    "# boxplot for word count\n",
    "plt.subplot(1,2,2)\n",
    "sns.boxplot(x=df['word_count'], color = 'lightgreen')\n",
    "plt.title('Boxplot of Word Count')\n",
    "plt.xlabel('Number of Words')\n",
    "\n",
    "plt.tight_layout()\n",
    "plt.show()\n",
    "\n",
    "## Left plot (review length): Most reviews are under ~2000 characters, but few go way beyon 10000+ characters\n",
    "## Right plot (word count): most reviews are under ~300 words, but few reach over well 1000 or even 5000 words"
   ]
  },
  {
   "cell_type": "code",
   "execution_count": 8,
   "metadata": {},
   "outputs": [],
   "source": [
    "# Optional step to cap extreme outliers using the 99th percentile\n",
    "length_cap = df['review_length'].quantile(0.99)\n",
    "word_cap = df['word_count'].quantile(0.99)\n",
    "\n",
    "df['review_length'] = np.where(df['review_length'] > length_cap, length_cap, df['review_length'])\n",
    "df['word_count'] = np.where(df['word_count'] > word_cap, word_cap, df['word_count'])"
   ]
  },
  {
   "cell_type": "code",
   "execution_count": 9,
   "metadata": {},
   "outputs": [
    {
     "data": {
      "image/png": "[encoded data removed]",
      "text/plain": [
       "<Figure size 864x360 with 2 Axes>"
      ]
     },
     "metadata": {
      "needs_background": "light"
     },
     "output_type": "display_data"
    }
   ],
   "source": [
    "plt.figure(figsize=(12, 5))\n",
    "\n",
    "# violin plot for review length vs. sentiment\n",
    "plt.subplot(1,2,1)\n",
    "sns.violinplot(data=df, x= 'Positive Review', y = 'review_length')\n",
    "plt.title('Review Length by Sentiment')\n",
    "plt.xlabel('Positive Review')\n",
    "plt.ylabel('Number of Characters')\n",
    "\n",
    "# violin plot for word count vs. sentiment\n",
    "plt.subplot(1,2,2)\n",
    "sns.violinplot(data=df, x = 'Positive Review', y = 'word_count', color = 'lightblue')\n",
    "plt.title('Word Count by Sentiment')\n",
    "plt.xlabel('Positive Review')\n",
    "plt.ylabel('Number of Words')\n",
    "\n",
    "plt.tight_layout()\n",
    "plt.show()\n",
    "\n",
    "## left plot: both positive and negative reviews show similar central tendencies\n",
    "## there's longer tail for positive review, suggesting some very long positive reviews\n",
    "## distribution is slightly wider for positive revies at higher character range.\n",
    "\n",
    "## right plot: this confirm psitive reviews ten to have more extreme high values.\n",
    "## but bulk of both classes cluster around similar word counts"
   ]
  },
  {
   "cell_type": "code",
   "execution_count": 10,
   "metadata": {},
   "outputs": [
    {
     "name": "stdout",
     "output_type": "stream",
     "text": [
      "               review_length  word_count\n",
      "review_length       1.000000    0.996851\n",
      "word_count          0.996851    1.000000\n"
     ]
    },
    {
     "data": {
      "image/png": "[encoded data removed]",
      "text/plain": [
       "<Figure size 432x288 with 2 Axes>"
      ]
     },
     "metadata": {
      "needs_background": "light"
     },
     "output_type": "display_data"
    }
   ],
   "source": [
    "# check correlation between review_length and word_count\n",
    "correlation = df[['review_length', 'word_count']].corr()\n",
    "print(correlation)\n",
    "\n",
    "# heatmap for correlation\n",
    "sns.heatmap(correlation, annot=True, cmap='coolwarm')\n",
    "plt.title('Correlation between Review Length and Word Count')\n",
    "plt.show()\n",
    "\n",
    "## review_length and word_count are highly correlated (0.997) -> convey almost same info"
   ]
  },
  {
   "cell_type": "code",
   "execution_count": 11,
   "metadata": {},
   "outputs": [
    {
     "name": "stdout",
     "output_type": "stream",
     "text": [
      "Longest Review:\n",
      "``People\u001a  say\u001a again\u001a and again that philosophy\u001a  doesn't really\u001a progress,\u001a\u001a that\u001a we  are\u001astill occupied  with\u001a the same philosophical problems\u001a as\u001a were\u001a  the\u001aGreeks.\u001a\u001aBut  the\u001a people who say this don't\u001a understand why is\u001ahas to be\u001a\u001a  so.\u001a\u001a It is because\u001aour language\u001a has remained the same and  keeps seducing\u001a us\u001a  into\u001a asking the\u001a same\u001a questions.\u001a\u001a  As long\u001aas there continues\u001a to be a verb\u001a  'to\u001a be'\u001a that  looks as if it\u001a functions\u001a in the\u001a same way\u001a as 'to eat' and  'to\u001a  drink', as\u001a long as we still\u001ahave\u001athe\u001a\u001a adjectives  'identical', 'true',  'false',\u001a\u001a 'possible',\u001aas\u001a\u001a  long as we continue\u001ato talk of a river of time, of  an\u001a expanse\u001aof\u001a\u001a  space, etc., etc., people will keep\u001astumbling over the\u001a  same\u001apuzzling\u001a\u001a  difficulties and\u001a find themselves staring at\u001asomething\u001awhich\u001a\u001a  no\u001a explanation\u001a seems capable of clearing up.\u001aAnd what's\u001amore,\u001athis\u001a\u001a  satisfies  a\u001a longing for the\u001a transcendent, because, insofar  as\u001a\u001a people\u001athink\u001athey can  see\u001a `the limits of\u001a\u001a human  understanding',\u001a\u001a they\u001abelieve of course that\u001athey  can see\u001a  beyond these.`` \n",
      "\n",
      "''Philosophy\u001a\u001a is a battle against the bewitchment of our\u001aintelligence by means of language``\n",
      "\n",
      "``Ambition is the death of  thought'''\u001a\n",
      "\n",
      "These three quotes are from Ludwig Wittgenstein who redefined philosophy\u001asome\u001a70 years ago (but\u001a most people have\u001a yet to find this out).\u001aDennett, though he has  been a philosopher\u001a for some\u001a40 years, is one them.\u001a It is also curious that both he and his prime antagonist, John Searle, studied under famous Wittgensteinians (Searle with John Austin, Dennett with Gilbert Ryle) but Searle got the point and Dennett did not. Dennett is a hard determinist(though he trys to sneak  reality in the back door), and perhaps this is due to Ryle, whose famous book 'The Concept of Mind'(1949) continues to be reprinted.  That book did a great job of exorcising the ghost but it left the machine.  Dennett enjoys  making  the\u001a mistakes Wittgenstein, Ryle(and\u001amany others since) have exposed in detail. \n",
      "\n",
      "By\u001aaccident,just before this book, I had  read ''The\u001a Minds I'', which Dennett coauthored with\u001aDouglas Hofstadter in 1981.\u001a They made some\u001a bad  mistakes(see my review), and saddest of all, they reprinted  two\u001afamous articles that pointed the way\u001aout of the mess---Nagel's\u001a `What is  like to\u001a be a bat?` and an\u001a early version of\u001a John  Searle's\u001a Chinese Room argument\u001a explaining\u001a why computers  don't think.\u001a\u001a\n",
      "\n",
      " Nagel pointed out that we do not\u001aeven know how to recognize what\u001aa concept of a bat's mind would\u001a be  like.\u001a  Searle\u001a similarly explained\u001a how we lack a way to conceptualize\u001a  thinking  and how it\u001a\u001adiffers\u001afrom what a computer does(eg,\u001ait can translate Chinese  without\u001a understanding\u001a it).\u001a Likewise, we lack a clear test for recognizing  what counts\u001aas\u001a good  vs\u001a bad--or just intelligible-- for many philosophical and scientific concepts.\u001a\u001a Our  use\u001a of\u001a\u001a the words consciousness, choice, freedom, intention,  particle,\u001a thinking,\u001a determines, wave,\u001acause, happened,  event(and so on\u001a endlessly)\u001a are  rarely a\u001a source of confusion  but\u001a as soon as we leave normal\u001a life and enter philosophy(and any\u001adiscussion detached\u001a from the environment  in  which language\u001a evolved)\u001a chaos\u001a reigns.\u001a\u001a Wittgenstein  was the first to understand why\u001a and to\u001a point out how to avoid  this. Unfortunately, he died in\u001ahis prime, his works are composed almost entirely of a series\u001a of examples of  how the mind(language)  works\u001aand he never wrote\u001aany popular books,  so  understanding of his work is\u001a restricted\u001a to a very few. \n",
      "\n",
      "Searle  is one of\u001a the world's leading\u001aphilosophers\u001a and has written  many\u001aextremely clear  and highly regarded\u001a articles\u001a and books,some of which have pointed out the  glaring\u001a defects\u001a in Dennett's\u001awork.\u001aHis review ``Consciousness\u001a Explained\u001a\u001a  Away'' of Dennetts 1991 book\u001a`'Consciousness Explained''\u001a and\u001a his book\u001a''The Mystery of Consciousness'' are\u001a very\u001a well  known,and show, in a way that is\u001aamazingly clear for philosophical writing,why neither Dennett(nor any of the\u001a  hundreds of philosophers\u001aand\u001ascientists who have written on this topic)have\u001acome close\u001ato\u001aexplaining the hard problem--ie, how do you conceptualize\u001aconsciousness.\u001aMany suspect we\u001a will never be able to conceptualize\u001aany of the really\u001aimportant things, but it is\u001aclear that we are  nowhere\u001a near it\u001a now.\u001a Dennett has mostly\u001a  ignored his critics but has\u001a favored  Searle with\u001a vituperative personal\u001a attacks.\u001aSearle has been accused by Dennett and others of  being out to destroy cognitive psychology which is quite funny as modern philosophy is(mostly) a branch of cognitive psychology and Searle has made it very clear for 30 years that WE are a good example of a biological machine that is conscious, thinks, etc,.  He just points out that we don't have any idea how this happens.   Searle characterizes as ''intellectual\u001apathology'',\u001athe views of\u001aDennett and\u001aall those who deny\u001athe existence of the\u001avery phenomena they set\u001aout to explain.\u001a Dennett repeats his  mistakes here and\u001aleaves his reply to his\u001a critics to the penultimate page of  the book, where we are told\u001a that they are\u001aall mistaken and it is a waste of space\u001ato show\u001a how!\u001a\u001a Unsurprisingly, there is\u001anot one reference to\u001aWittgenstein\u001a or Searle in the\u001aentire book.\u001aThere are\u001ahowever, many references\u001a to other old school\u001aphilosophers who are as confused\u001aas he is.\u001a \n",
      "\n",
      "Like most people, it does not cross his mind\u001athat\u001athe very\u001a inference engines\u001ahe thinks with are forcing\u001ahim to come\u001ato  certain\u001aconclusions and that these\u001a will often\u001abe quite  unconnected\u001awith or wrong about\u001a the way things are in the\u001a  world. They are a jumble of evolutionary curiosities\u001awhich do various tasks in organizing behavior that were useful for survival\u001ahundreds of thousands of years ago.\u001aWittgenstein was a pioneer\u001ain doing\u001athought experiments in cognitive\u001a psychology\u001aand began\u001ato elucidate the nature\u001a of these engines and the subtleties\u001aof language in the 30's, and thus he made\u001a the sorts of comments\u001athat this review begins with.\u001a \n",
      "Dennett says(p98)that  his view is compatibilism, ie, that  free will(which\u001aI hope\u001awe can equate with choice) is compatible with  determinism(ie, that\u001a''there\u001a is at any instant exactly one physically  possible\u001a  future''--p25).\u001a He\u001a wants to show that determinism is not the same as inevitablity.\u001a However, the\u001a whole book is smoke  and\u001a mirrors by means of  which choice, in the sense we\u001a\u001a normally  understand\u001a it, disappears and\u001a we are  left with ``choice``,  which is\u001a something\u001a we cannot choose.\u001a Naturally, this  echoes  the fate of consiousness\u001a in\u001a his earlier book ``Consciousness  Explained``. \n",
      "\n",
      "It is remarkable\u001a that, at a time\u001a when we are  just beginning to  reach the point\u001a where we might be able to\u001a understand the basics of how a  single\u001a neuron works(or how an  atom works for that\u001a matter), that anyone should\u001a  think they can  make the leap to understanding the whole\u001a brain\u001a and to explain  its most complex phenomena.\u001a Please recall the last\u001a sentence of Wittgenstein  from the opening quote: ''\u001aAnd what's\u001amore,\u001athis\u001a satisfies a longing for the\u001atranscendent, because, insofar as\u001a\u001apeople\u001athink\u001athey can see `the limits of\u001a\u001a  human understanding',\u001a\u001athey\u001abelieve\u001a of course that\u001athey can see beyond  these.`` The\u001a  relation between language,\u001a thought and reality is  extraordinarily\u001a complex and everyone gets lost.\u001a If one\u001a is very, very  careful,\u001asome understanding is possible, but Dennett throws\u001a caution to\u001a  the  winds and we are dragged into the quicksand.\u001a \n",
      "\n",
      "There\u001a are  at least 3 different  topics here(evolution of our brain, choice\u001a  and morality) and Dennett tries  vainly to weld them together into\u001a  a coherent\u001a account of how freedom evolves  from the deterministic\u001a  crashing of atoms.\u001a There\u001a is, however, no compelling  reason to\u001a  accept that bouncing atoms (or his favorite\u001a example, the game\u001a  of  life running on a computer) are isomorphic with reality.\u001a\u001a  He\u001a knows that  quantum indeterminacy(or the uncertainty principle)  is\u001a a major\u001a obstacle to  determinism however defined(and has  been taken\u001a by many as an escape\u001a to  freedom) but dismisses  it due to the fact\u001a that such events are too rare to\u001a  bother  with.\u001a By\u001a extension,\u001a its unlikely that any such  event will happen now or even in our\u001a  whole\u001a lifetime in our  brain, so we appear to be stuck with a determined\u001a  brain(whatever\u001a  that may be). However, the universe is a big place\u001a and its been  around a long\u001a time(perhaps forever) and if even one\u001a such quantum  effect occurs  it would seem\u001a to throw the whole universe\u001a into  an indeterminate state.\u001a The  notion ''there\u001a is\u001a at any\u001a  instant exactly one physically possible future''  cannot be true\u001a  if at any\u001a instant a quantum indeterminacy can occur--in this  case\u001a  there would seem to be\u001a infinitely many possible futures.\u001a This\u001a  recalls  one of the escapes from the\u001a contradictions of physics--each\u001a  instant our  universe is branching into\u001a infinitely many universes. \n",
      "\n",
      "He correctly rejects the idea that quantum indeterminacy gives us the answer to how we can have choice.  This obvious idea has been suggested by many but the problem is that nobody has any idea how to specify an exact sequence of steps which starts with the equations of physics and ends up with the phenomena of consciousness(or any other emergent phenomenon).  If so, they will definitely win at least one Nobel Prize, for not only will they have explained consciousness, they will have explained the universal phenomenon of emergence(how higher order properties emerge from lower ones). So, they would have to solve the 'easy' problem(to determine the exact state of the brain corresponding to some mental state and preferably specify the exact position of all the atoms in the brain over time-ignoring uncertainty) and the 'hard' one(what exactly correlates with or produces consciousness or choice etc?). And while they are at it how about also doing the  impossible--an exact and full solution to the quantum field equations for a brain.  It is very well known that these equations are uncomputable, even for one atom or a vacuum, as it would require an infinite amount of computer time.  But infinite will do for one atom so maybe a brain will take no longer. \n",
      "\n",
      "He starts off on the  first page appealing to the laws\u001a of  physics for\u001a protection against fantastic  notions such as immaterial souls, but physics is\u001a made of notions just as  fantastic(uncertainty,\u001a  entanglement, wave/particle\u001a duality, Schrodinger's  dead/alive\u001acat etc) and as Feynmann said many times\u001a ``Nobody understands\u001aphysics!'' Many think nobody ever will. \n",
      "\n",
      "On pg  2 he says  our values have\u001a little to do with the goals of our\u001a cells and  on pg 2  to3 that\u001a our personality differences are due to how  our\u001a ''robotic teams\u001a are  put togther, over a lifetime of  growth and experience.``\u001a\u001a This\u001a is a bald  dismissal of human  nature, of the abundant evidence that\u001a our\u001a differences are  to  a large extent programmed into our genes\u001a and fixed in early\u001a  childhood, and  is typical of his constant confused\u001a wandering  back and forth\u001a between  determinism and\u001a environmentalism.\n",
      "\n",
      "On page  9 he notes that free will is\u001a a problem and our  attitudes to  it make\u001a a difference, but for whom?\u001a\u001a Nobody but philosophers.\u001a We\u001a make choices.\u001a\u001a What's the problem?\u001a  One has to step  outside life to experience\u001a a\u001a problem and then  everything becomes a problem.\u001a  What are consciousness,\u001a pain,\u001a  yellow, intention, matter, quarks, gravity  etc.?\u001a I doubt\u001a that  anyone has ever\u001a experienced a fundamental change in their\u001a  interactions  with people or their\u001a decision making processes due\u001a to their  thinking about choice.\u001a This shows that\u001a there is something\u001a  strange about such questions.\u001a Wittgenstein would probably\u001a say\u001a that the language games are  different.\u001a There are\u001a games  for language\u001a connected with the cognitive  templates for decisions  or seeing\u001a colors etc, and\u001a\u001a thinking philosophically is operating\u001a them in decoupled mode.\u001a\u001a Decoupled modes permit  thinking about\u001a the past, planning for the future,\u001a guessing  the mental states\u001a  of others, etc, but if one takes the results  in the\u001a wrong way and\u001a starts to  think `'John will try to steal  my wallet'', rather\u001a than\u001a just imagining that  John might  do it, confusion enters and\u001a those who cannot turn\u001a off the decoupled  mode or distinguish it from coupled mode,  enter the realm of\u001a pathology.\u001a Some aspects of\u001a schizophrenia and other mental illness might be  seen this\u001a way--they lose control of which mode they are in, eg, not\u001abeing able to see\u001a the  difference between the motives people  have and the motives\u001a they\u001a might have. \n",
      "\n",
      "\u001aOne can then see  much of the philosophizing\u001a people do as operating in\u001a  these  decoupled modes but failing to\u001a be able to keep in front of them  the\u001a  differences from the normal\u001a mode.\u001a Normal mode--eg, what  is that lion doing--\u001a  was undoubtedly\u001a the first one evolved  and decoupled modes--what did that lion  do\u001a last time or what  does he intend to do next--evolved later.\u001a\u001a This was  probably\u001a  never a problem for animals--any animal that\u001a spent too much\u001a  time  worrying about\u001a what might happen would not\u001a be very successful  contributing to  the gene pool.\u001a\u001a It is interesting\u001a to speculate that only when humans developed  culture and began\u001a degenerating\u001agenetically, could large numbers of people  survive with genes that\u001a  led them to spend alot of time in decoupled modes.\u001a  Hence, we\u001a  have philosophy\u001a and this book, which is mostly about running the\u001a  decision templates in decoupled\u001a mode where there are no real  consequences\u001aexcept earning royalties for putting\u001a the results  in a book for\u001a other people to  use to run their engines in decoupled\u001a mode.' Let us alter Wittgenstein's quote to read:  ''As long\u001aas\u001a there\u001a continues\u001a to be a verb 'to decide'\u001a  that looks as if\u001a it\u001a functions\u001a in the\u001a\u001a same way as 'to  eat' and 'to  drink',\u001aas\u001a\u001a long as we continue\u001ato talk of  freedom\u001a of action, of\u001a saying\u001a I  wish I had done otherwise,  etc., etc., people will\u001a keep\u001astumbling\u001a over the  same\u001apuzzling  difficulties and\u001afind themselves staring\u001a at\u001asomething\u001awhich\u001a  no  explanation\u001a seems capable of clearing\u001a up.\u001a''\n",
      "\n",
      "As with\u001amost philosophy books, nearly every page,\u001a often every paragraph,  changes from one\u001a type of language  game\u001a to another without  noticing that now one would have to be\u001a joking\u001a or  dreaming  or acting in a play or reciting a story , etc, and not\u001a actually  intending anything nor describing an actual situation\u001a in the  world.\u001a On\u001a page  10 he says we count on free will for the\u001a  whole way of thinking about our\u001a lives,  like we count on food  and\u001a water, but who ever, outside philosophy, standing\u001a in  front  of lunch\u001a counter full of food, ever thinks how fine it is that  they\u001a  have\u001a free will so they can pick coke instead of mineral  water?\u001a Even\u001a if I  want\u001a to be a serious compatibilist and  try\u001a thinking this\u001a in decoupled mode, I  have\u001a to exit and  enter nondecoupled mode\u001a to make the actual choice.\u001a Only then  can I\u001a go back to decoupled\u001a mode to wonder what might have  happened if I had  not had\u001a the ability\u001a to make a real choice.\u001a  Wittgenstein noted how pretend  games are\u001a parasitic on real ones(this is not a trivial observation!).\u001a  The ability to engage in very complex\u001a  decoupled\u001a scenarios  is already evident in 4 year old children.\u001a\u001a So I would say  that\u001a normally, nobody counts on having choice,\u001a but rather we just choose.\u001a \n",
      "\n",
      "\n",
      "On the same page he shows\u001a again that he does not grasp cognitive  basics.\u001a\u001a  He says we learn\u001a to conduct our lives in the conceptual  atmosphere of choice,\u001a  and\u001a that `'It appears to be a stable  and ahistorical construct, as\u001a eternal  and\u001a unchanging as arithmetic,  but it is not.'' And on\u001a page 13--''It is an  evolved\u001a creation  of\u001a human activity and\u001a beliefs''.\u001a The whole thrust of  cognitive\u001a  psychology is that\u001a we do NOT learn the basics of planning, deciding,  promising,\u001a resenting,\u001a etc, but that these are built-in functions  of the  inference engines\u001a that work automatically and unconsciously  and start running  in\u001a very early\u001a childhood.\u001a There is no evidence  that they change\u001a as we grow,  or are in any way\u001a subject to  our beliefs,only  that\u001a they mature just\u001a as our body does.\u001a \n",
      "\n",
      "On pg 14 he suggests  its probable\u001a that our having free will depends on our\u001a believing  we have  it!  Do\u001a we believe we see an apple, feel a pain, are\u001a  happy?\u001a\u001a The language\u001a  game of belief is very different from  that of knowing.\u001a We\u001a can\u001a believe we have  a dollar in our  pocket but if we take it out and\u001a look at it\u001a we can't  meaningfully  then say that we still believe\u001a it(except as a joke etc.).\u001a The  inference engine can run in decoupled(belief)\u001a mode so we can  imagine having\u001achoices or making them, but in life\u001a we just make them and it is only in very  odd\u001a situations we can\u001a say  that we believe we made a choice.\u001a But Dennett is  saying\u001a this\u001ais the universal case.\u001a If making a choice had any dependence on\u001a belief\u001a than so would everything everything else--consciousness,\u001a  seeing,  thinking,etc.\u001a\u001a If we take this seriously(and he says\u001a 'the serious problems of  free will' ) then\u001a we are getting  into\u001a trouble and if we actually try to apply  it to life, then\u001a madness\u001a is minutes away. \n",
      ". \n",
      "On page 65 et seq., he  discusses\u001a causation, intention and the `informal\u001a predicates'  that we use\u001a to  describe atoms etc, but cognitive resarch has  shown\u001a that we\u001a describe all  objects with a limited number of  ontological categories\u001a which we analyse with  our intuitive physics  modules and that when\u001a agents (ie\u001a animals or people or  things  like them--ie, ghosts or\u001a gods) are involved we use\u001a our  concepts (engines)  for agency, intuitive\u001a psychology, social minds, etc to\u001a  decide  how to behave.\u001a There\u001a is almost certainly no causation module  but  rather\u001a it will involve\u001a all of these and other inference  engines, depending on  the\u001a precise\u001a situation. Discussing\u001a  possibility and necessity is much\u001a  easier\u001a if  one talks in terms of the output of our modules for\u001a intuitive  physics,\u001a  agency, ontological categories etc.\u001a Of course\u001a there is no mention  here of\u001a Wittgenstein's many incisive comments\u001a on causation,  intention,  deciding, nor of\u001a\u001a Searle's now classic\u001a works  on Intention and Social Reality. \n",
      "\n",
      "He spends much\u001a time on  Ainslie's book 'Breakdown of Will', in which is\u001a  discussed\u001a  the hyperbolic discounting faculties (ie, inference engines) by which\u001a  we evaluate probable outcomes.\n",
      "He\u001amakes much of the excellent work of Robert Frank on altruism, emotion and\u001a economics, but the book he cites was 15 years old when this book was published. It was Bingham's idea, amplified by Frank and by Boyd and Richardson (1992) that\u001a  cooperation  was\u001a greatly stimulated by the evolution of means for punishing\u001a cheaters.\u001a\u001a He suggests these as examples of Darwinian approaches  that are\u001aobligatory\u001a and promising.\u001a Indeed they are, and  in fact they are standard\u001a  parts\u001a of economic, evolutionary  and cognitive theory, but unfortunately,\u001a he  makes\u001a little reference  to the other work in these fields. All that work tends to show that people do not choose but their brains choose for them. He does not establish any convincing\u001a connection between this work and the general problem of choice.\u001a \n",
      "\n",
      "On\u001apg 216 he says that making oneself so  that one could not have  done\u001a otherwise is a key innovation in  the evolutionary ascent to free\u001a will,  and that\u001a we can only  be free if we learn how to render ourselves\u001a insensitive  to\u001a  opportunities. But where this ability resides is\u001a not revealed  for  several\u001a chapters!\u001a Dennett has a penchant\u001a for hiding  his ideas in a massive  amount of\u001a rather irrelevant\u001a text.\u001a  Again, he gets things backwards, as there is  a vast body\u001a of\u001a  very good evidence from biology and psychology that we are get  the\u001a feelings\u001a that we should behave in some way from our inference\u001a engines and  these are not\u001a provided by some part of our conscious\u001a  self, but by the automatic and\u001a unconscious operation of the  engines.\u001a\u001a As he notes, hundreds of experiments  with the\u001a Prisoner's Dilemma  and related\u001a protocols have shown how easy it is to  manipulate\u001a  people's choices\u001a and that their calculations are not conscious  and  deliberate at\u001a all.\u001a When the situation is manipulated to  make them conscious,\u001athey are much slower and  less reliable. So, there\u001a has been  constant pressure of\u001a natural  selection to make the engines\u001a fast and automatic  and inacessible  to\u001a deliberate thought.\n",
      "\n",
      "Dennett says `we make ourselves'  so  that we could not do\u001a otherwise\u001a and that this is the basis  of morality and  choice.\u001a The evidence\u001a would\u001a seem to be exactly  the opposite.\u001a Our inference engines give  us basic\u001a moral intuitions and\u001a  we generally act in accord with the results.\u001a\u001a  If we or others  do not we feel\u001a guilt, outrage, resentment etc,\u001a then cheater genes will invade the population and this is one of the main theories as to how a good part of morality evolved.\u001aOur genes make us so we can't(mostly) do otherwise, not our will or whatever Dennett thinks can do it.   We can\u001a often choose to do otherwise but our own  intuitions and the knowledge of social\u001a disapproval  usually serve to limit our choices.\u001a These intuitions\u001a evolved  in\u001a small groups between 50,000 and some  millions of years ago.\u001a In the modern world\u001a the intuitions are often not to  our\u001a  advantage and the social controls weak.\u001a\u001a This is a prime reason\u001afor the chaos in the world.\n",
      "\n",
      "On\u001a pg  225 he finally sneaks in a definition of\u001a free\u001a will\u001a  as ''a complicated snarl of mechanistic causes that look like\u001adecision making(from certain angles)''. He claims that this\u001aplays all the valuable  roles\u001a of free will but lacks some  (unspecified)\u001a properties possessed by\u001a  traditional free will.\u001a  The smoke is thick but I  am\u001a pretty  sure one of\u001a those unspecified properties is what we understand as\u001achoice.\u001a\u001a He insists(top pg 226) that his naturalistic  account of decision\u001a  making\u001a leaves plenty of room for moral  responsibility, but making\u001a ourselves so  we\u001a couldn't do otherwise  does not seem to describe\u001a the way we actually  function,\u001a nor  does it seem to leave any room\u001a for morality, as that would seem  to consist\u001a precisely in being\u001a able to do otherwise. \n",
      "\n",
      "He  does not propose  any test\u001a for deciding if a choice is voluntary  or\u001a forced and I doubt he\u001a could  do so.\u001a Normally if someone  asks us to move our\u001a hand, we\u001a know what counts as  having a  choice,\u001a but, typical of philosophers,\u001a I\u001a expect that regardless  of  whether it moves or not he will count\u001a both as evidence for his position. \n",
      "\n",
      "At this point he also starts his discussion of Libet's well known work on conscious attention which is the only part of the book that I felt was worth my time. \n",
      "\n",
      "On page 253 et\u001a seq., he sneaks in his definition of conscious will--the\u001a  ''brains\u001a user illusion  of itself''' which has as one of its main roles\u001a  providing\u001a  ''me with the means of interfacing with myself at\u001a other times``.  And\u001a ``Illusory\u001a or not, conscious will is the\u001a persons guide  to his or her own  moral\u001a responsibility for action.``\u001a He says  the trick we need is to see that  ``I`'\u001a control what is\u001a happening  inside the ''simplification barrier''...  ''where\u001a decision  making happens''. ``Mental events'' become conscious\u001a by  ''entering  into\u001a memory''.\u001a ''The process of self description...\u001a is  what we  are''.\u001a The crucial\u001a thing is that choice is possible\u001a  because the self is  distributed over space(the\u001a brain) and time(memories).\u001a\u001a  He realizes this is  going to leave many incredulous(everyone who can follow this and really understands!).\u001a ''I know that many  people find it hard to grasp\u001athis idea or take it seriously.\u001a It seems to them  to be a trick\u001awith mirrors,\u001a some kind of verbal slight of\u001a hand that whisks\u001aconsciousness, and the real\u001a Self , out of the picture just when\u001a it was about to  be introduced.''\u001a Many will say he took the words out of their mouth, but I would  say it's incoherent and  that\u001aeverything\u001awe know about consciousness and the whole  universe(making the obvious extensions of such claims)  was gone long before\u001awe\u001agot this far.\u001a \n",
      "\n",
      "\n",
      "On pg 259 he says that culture has made us rational animals!  This is a stunning denial of human nature(ie, genetics and evolution) coming from the person who wrote 'Darwin's Dangerous Idea''!  Presumably he is talking about his idea that it is memories spread over space(the brain and other people) and time that give us choices and morals and consciousness(line 6 from bottom).  He says consciousness is a user-interface but it is never made clear who or where the user is and how it interfaces with the brain(you will have to suffer through 'Consciousness Explained to find that there is no answer there either).  Though he makes many references to evolutionary and cognitive psychology, he seldom uses any of the terminology that has been current for decades(social mind, intuitive psychology, coalitional intuitions etc) and clearly is not familiar with most of the concepts. If he means that we got the fine details of morality from culture, thats ok, but this is the icing on the cake and the cake was baked by the genes.  \n",
      "\n",
      "We are also told here that R&D(by which he means evolution here, but other things elsewhere) has given us the self  and that language creates new kind of consciousness and morality.  I am sure that he will get little agreement on this.  It seems quite clear that consciousness and the basics of morality evolved in primates(and earlier) long before spoken language(though it is a very deep topic as to how language evolved from extant capacities in the brain).  He continues ``morality memes arose by accident some tens of thousands of years ago`` which would be OK if he meant the icing on the cake but he clearly means the cake!  And then he says the point of morality is not the survival of our genes, which is an amazing (and totally incorrect)thing to say, even if he was only referring to memes.  \n",
      "On pg 260 he claims  that  because\u001a we do not comprehend our ''bland\u001a dispositions  to cooperate'',\u001a they  mean nothing to us, but it is the operation  of\u001a our templates\u001a that is  everything to us.\u001a There is ample  evidence that if one\u001a of\u001a them is damaged a  person cannot function  properly as a social being(eg, autism).  I would say it is the operation of the templates for intuitive psychology etc which lead Dennett to the counterintuitive views that we do not have consciousness and choice in the way we think.  \n",
      "\n",
      "He also says here that it was one of the major  evolutionary transitions when we were able to change our views and reflect on reasons for them. This again reflects his lack of understanding of evolutionary psychology.  I know of no evidence that the basic moral intuitions, like all the templates, are accessible to consciousness.  We may decide our cheating was justifiable, or forgive someone else's cheating, but we still know it was cheating(ie, we cannot change the engine). I suspect my ancestors a million years ago had the same feelings in the same situation but what has happened is that there are lots of other things that may be taken as relevant and that sometimes these will lead me to act contrary to my feelings.  Another issue is that as culture developed, one had to make many important or 'moral type` decisions for which the engines were not evolved to give a clear answer.  \n",
      "\n",
      "On pg 267 he says that we now replace our `free floating rationales'(probably corresponding to what cognitive psychologists call our templates or inference engines) with reflection and mutual persuasion. And on pg 286 he says that it is a child's upbringing --demanding and giving reasons-- that affects moral reasoning. Again, he just has no grasp of what has happened in the last 30 years of research--the templates do not change with reflection or upbringing. We are then told again that consciousness makes moral issues available over time to the self, which takes responsibility.  It is not any more coherent or credible with repetition.  \n",
      "\n",
      "On pg 289 he has a chapter summary which repeats the mistaken notions that it is culture that makes it possible to reflect and that choice depends on education(memory) and sharing.  It's clear that it is not culture but the inherited cognitive structures that make it possible to reflect and to choose and that culture determines the acceptable actions and their rewards or punishments. On pg 303 he discusses the classic philosophical barrier between 'ought'and 'is' , unaware that our templates solved that problem long ago--ie, they tell us how to feel about situations regarding other people.  He also seems to be unaware that there are hundreds of cultural universals implanted in our genes(eg see 'The Blank Slate'). \n",
      "\n",
      "He often starts into what looks like its going to be a good discussion of some issue in evolutionary psychology, but invariably wanders off into philosophical arcana and winds up with more confusion.  This happens on pg 261 where he states that concepts like 'praiseworthy' were shaped over millennia by culture, while most would say the basis for such concepts is in the genes and each culture only detetermines the details of acceptable reactions to the intuitions its members get from their innate mechanisms.   On pg 262 he tries to explain how an ESS(Evolutionarily Stable Strategy) can produce morality. His idea here is that genetic `R&D` produces dim understandings of morals and then culture(memetics) produces variations and clarifications.  I would say that we all know, and much research has made clear, that we commonly get very clear results from our inference engines and only dimly understand in special cases.  Culture merely decides what we can do about our feelings.  \n",
      "\n",
      "The last part of the book is mostly  concerned  with moral culpability.\u001a He refers to the legal classic by Hart  and  Honore, which I started reading 30 years ago since it's  authors were deeply influenced by Wittgenstein.\u001a  Dennett tells us that we have  control over our own morality and  that thinking about morality will improve us.\u001a  But, there seems  no justification whatever for this view in this book. There is nothing at  all  here to help anyone escape from the dictates of the monkey mind.\u001a It is a defensible point of view that those who manage this do so by traveling a spiritual path that  has no connection with philosophy- and there is not a hint of  spirituality in this entire book--another telling point considering that many mystics have fascinating things to say about the functioning of the mind.\u001a I find  more wisdom about how  to be free and moral in any of Osho's 200 books than anywhere in philosophy. One rarely finds spiritually and morally  advanced people teaching at universities.\u001a There is no sign here, nor in  anything he has done, that Dennett is morally superior.\u001a After 40 years of thinking about morality he launches personal attacks on his critics or arrogantly dismisses them.  It seems clear that, like all of us, he is trapped in the limits of his inference engines. \n",
      "\n",
      "So, how much opportunity is there to  improve our morality?\u001a It seems  clear(eg, see Pinker's `The Blank Slate`) that  most of our behaviour  is genetic and the rest due to unknown factors in our  environment, in spite of the vigorous efforts of parents and religions and political parties. On  average, maybe 5% of the variation in moral behavior(variations are the only thing we can  study) is due to our own efforts.\u001a The moral choices that matter  most today are  those affecting the fate of the world.\u001a But our moral templates were not evolved to deal with overpopulation and the greenhouse effect. \n",
      "\n",
      "How remarkable it would be if just one of the hundreds of millions of educated people in the world managed to figure out what consiousness or choice or any mental phenomenon really is.  And if one did, we would expect them to be a scientist at the cutting edge of research using some exotic fMRI  equipment and the latest parallel processing neural networked fuzzy logic computer etc.  But a philosopher or physicist just sitting there thinking, coming up with the solution to the greatest puzzle there is!  And then writing a whole book about it without checking with the sceptics first.  To return to the quote at the beginning--'Ambition is the death of thought'.  Indeed--though clearly Wittgenstein was thinking of interesting thoughts\n",
      "\n",
      "According to Charles Kimball, religion is the most powerful and pervasive force on earth.  Religion inspires humans to transcend their self-interests, while at the same time, more evil has been committed in the name of religion than any other human institution.  Using a comparative religious approach, Kimball uncovers five warning signs that increase the likelihood of a religion becoming unhealthy or evil.\n",
      "\n",
      "Kimball argues the word `religion' is amorphous and difficult to define.  As a result, the author believes a comparative religious methodology is necessary, one that sees the similarities and interconnectedness of all religions.  Kimball, next, asks if religion is the cause of evil, and he answers both yes and no.  A religion that is arrogant, condescending, and requires adherents to \"disconnect their brain\" is problematic.  On the other hand, religion opens up humanity to a universe of purpose and beauty and teaches how to live meaningful and moral lives as individuals and in community.  Kimball seeks to discover the signs that increase the likelihood of religion becoming evil.  \n",
      "\n",
      "The first warning sign that religion is displaying tendencies towards evil is the belief and adherence to absolute truth claims.  When conceptualizations of God are held with certainty and rigid doctrine, the propensity towards evil increases dramatically.   Sacred texts, sources of wisdom and guidance, become abused when selective readings of the text are used to reinforce these absolute truth claims.  Christianity and Islam have missionary mandates, but these become imperialistic when conversion is forced because of absolute truth claims.  Kimball argues for a \"human view of truth\", one that is dynamic and relational, allowing adherents to affirm truth without solidifying truth claims into absolute propositions.\n",
      "\n",
      "Another pivotal point when religion becomes evil is blind obedience: when adherents abdicate personal responsibility to religious authorities.  When a charismatic leader demands total obedience, has unrestricted power, and has total control, religion is unhealthy.  Uncritical acceptance of doctrine is also unhealthy, as authentic religion encourages questions and reflection.  Strict segregation from the larger society, combined with a leader with unlimited power is dangerous.  Kimball asserts that religious inquiry and freedom of thought are necessary for responsible religious adherence.\n",
      "\n",
      "Every religious tradition believes that something is awry on earth, while some believe that an ideal time will arrive in the future.  When adherents believe they can speak for God and wish to usher in this time, the likelihood for disaster increases.  Many Muslims embrace the hope for an all Islamic society, zealous Jewish settlers dream of a time when Israel will be returned to its divinely promised status, and the Christian Religious Right believe that America should be politically structured with Christian principles in mind.  Kimball opines those who narrowly define temporal structures of the state and those who believe they are God's agents to usher in a theocracy are dangerous.\n",
      "\n",
      "Religion also becomes a force for evil when the ends justify any means: when one theological component gets elevated, thus becoming an end, and adherents become consumed with achieving or protecting this end.  All religions have notions of sacred space, but an unhealthy religion becomes obsessed with protecting this space.  Reinforcing or protecting group identity against an `other', or protecting group identity from within the group, are also potentially dangerous signs.  Institutional structures develop in all religious traditions, but corruption occurs when the protection of the institution becomes the end.  Kimball asserts that a healthy religion preserves the connection between means and ends.\n",
      "\n",
      "The last warning sign occurs when religious leaders believe their struggle is a \"holy\" war.  Kimball outlines the history of pacifism to the just war theory and crusader ideals within Christianity, and he shows how each of these views were represented in the Gulf War of 1990-91.  Islam is a peaceful religion, which asks adherents to build a just and peaceful social order.  The word jihad means \"struggling in the way of God,\" but in a narrower sense jihad is understood as a struggle in a military sense - with rules similar to the Christian just war theory.  Because of socio-economic disparities, some Muslims openly advocate violent means to achieve revolutionary ends, and some leaders declare this revolution as a holy war in order to legitimize their cause.  Kimball believes both that Christian and Muslim adherents should not speak of war but of peace and that the call for holy war is not holy.\n",
      "\n",
      "With the knowledge of when religion becomes evil, religions have a clear understanding of healthy praxis.  Faith, hope, and love should be the guiding spiritual compass for all religious adherents, so that in times of conflict unhealthy religious mechanisms can be averted.  Against secularism, Kimball finds validity in religious traditions because of the time-tested wisdom and ethical standards, and he believes that religions should embrace religious diversity.  With religious diversity Christians have three options, exclusivism, inclusivism, and pluralism, but Kimball believes each position has value if adherents from different faiths work together for the common good of humanity. Finally, the Middle East represents a microcosm for the world community: if peaceable solutions are not found in the Arab-Israeli-Palestinian conflict, then the future for the world community and world religions are bleak\n",
      "\n",
      "\n",
      "Shortest Review:\n",
      "It was a mistake to buy it. Only few pages were interestin\n",
      "\n",
      "It was a mistake to buy it. Only few pages were interestin\n",
      "\n"
     ]
    }
   ],
   "source": [
    "# longest review\n",
    "print(\"Longest Review:\")\n",
    "print(df.loc[df['review_length'].idxmax(), 'Review'])\n",
    "# longest positive review\n",
    "print(df[df['Positive Review'] == True].sort_values(by='review_length', ascending=False).iloc[0]['Review'])\n",
    "\n",
    "# shortest review\n",
    "print(\"\\nShortest Review:\")\n",
    "print(df.loc[df['review_length'].idxmin(), 'Review'])\n",
    "# shortest positive review\n",
    "print(df[df['Positive Review'] == False].sort_values(by='review_length').iloc[0]['Review'])"
   ]
  },
  {
   "cell_type": "markdown",
   "metadata": {},
   "source": [
    "## Part 4: Define Your Project Plan\n",
    "\n",
    "Now that you understand your data, in the markdown cell below, define your plan to implement the remaining phases of the machine learning life cycle (data preparation, modeling, evaluation) to solve your ML problem. Answer the following questions:\n",
    "\n",
    "* Do you have a new feature list? If so, what are the features that you chose to keep and remove after inspecting the data? \n",
    "* Explain different data preparation techniques that you will use to prepare your data for modeling.\n",
    "* What is your model (or models)?\n",
    "* Describe your plan to train your model, analyze its performance and then improve the model. That is, describe your model building, validation and selection plan to produce a model that generalizes well to new data. "
   ]
  },
  {
   "cell_type": "code",
   "execution_count": null,
   "metadata": {},
   "outputs": [],
   "source": []
  },
  {
   "cell_type": "markdown",
   "metadata": {},
   "source": [
    "### Feature Selection\n",
    "After exploring the data, I chose to retain the Review column as the main input feature for natural language processing. Although I created two engineered feature -- review_length and word_count -- I will remove them before modeling because they are highly correlated (r ~ 0.997), and including both may introduce redundancy. Since this is a text classification task, I will transform the Review text using TF-IDF vectorization instead of using raw numerical length-based features.\n",
    "\n",
    "### Data Prep Techniques\n",
    "* Text Cleaning: I will apply TF-IDF vectorization to convert text into numerical feature vectors. I plan to use unigrams and bigrams (ngram_range=(1, 2)), and may adjust min_df to remove rare terms.\n",
    "* Label Encoding: The target label Positive Review is already in boolean format, so no transformation is needed.\n",
    "* Train/Validation/Test Split: I will split the data into training and validation sets using an 80/20 ratio, and reserve a separate test set to evaluate final model performance.\n",
    "\n",
    "### Model Choice\n",
    "I will use a neural network model (Keras Sequential) with: An input layer matching the TF-IDF feature size / One or more dense hidden layers with ReLU activation / A dropout layer to reduce overfitting / A final sigmoid output layer for binary classification.\n",
    "\n",
    "If needed, I may compare this against a logistic regression baseline for performance comparison.\n",
    "\n",
    "### Modeling Plan\n",
    "I will first train the base neural network and evaluate its performance on the validation set using loss and accuracy.\n",
    "\n",
    "I will then improve the model by: Adjusting hyperparameters like learning_rate, num_epochs, and hidden layer size / Adding regularization techniques like dropout / Tuning the TF-IDF vectorizer (e.g., min_df, max_features)\n",
    "\n",
    "I will monitor training vs. validation loss and accuracy to detect overfitting or underfitting.\n",
    "\n",
    "Final evaluation will be done on the test set using accuracy and qualitative inspection of predictions.\n"
   ]
  },
  {
   "cell_type": "markdown",
   "metadata": {},
   "source": [
    "## Part 5: Implement Your Project Plan\n",
    "\n",
    "<b>Task:</b> In the code cell below, import additional packages that you have used in this course that you will need to implement your project plan."
   ]
  },
  {
   "cell_type": "code",
   "execution_count": 12,
   "metadata": {},
   "outputs": [],
   "source": [
    "# YOUR CODE HERE\n",
    "# Text preprocessing and vectorization\n",
    "from sklearn.feature_extraction.text import TfidfVectorizer\n",
    "from sklearn.model_selection import train_test_split\n",
    "\n",
    "# Neural network modeling\n",
    "from tensorflow.keras.models import Sequential\n",
    "from tensorflow.keras.layers import Dense, Dropout\n",
    "from tensorflow.keras.optimizers import Adam\n",
    "\n",
    "# Model evaluation\n",
    "from sklearn.metrics import classification_report, confusion_matrix, accuracy_score\n",
    "\n",
    "# For working with arrays\n",
    "import numpy as np"
   ]
  },
  {
   "cell_type": "markdown",
   "metadata": {},
   "source": [
    "<b>Task:</b> Use the rest of this notebook to carry out your project plan. \n",
    "\n",
    "You will:\n",
    "\n",
    "1. Prepare your data for your model.\n",
    "2. Fit your model to the training data and evaluate your model.\n",
    "3. Improve your model's performance by performing model selection and/or feature selection techniques to find best model for your problem.\n",
    "\n",
    "Add code cells below and populate the notebook with commentary, code, analyses, results, and figures as you see fit. "
   ]
  },
  {
   "cell_type": "code",
   "execution_count": 13,
   "metadata": {},
   "outputs": [
    {
     "name": "stdout",
     "output_type": "stream",
     "text": [
      "Epoch 1/10\n",
      "40/40 [==============================] - 1s 9ms/step - loss: 0.6892 - accuracy: 0.5753 - val_loss: 0.6817 - val_accuracy: 0.6297\n",
      "Epoch 2/10\n",
      "40/40 [==============================] - 0s 5ms/step - loss: 0.6335 - accuracy: 0.8185 - val_loss: 0.6056 - val_accuracy: 0.7848\n",
      "Epoch 3/10\n",
      "40/40 [==============================] - 0s 4ms/step - loss: 0.4283 - accuracy: 0.9231 - val_loss: 0.4651 - val_accuracy: 0.8070\n",
      "Epoch 4/10\n",
      "40/40 [==============================] - 0s 4ms/step - loss: 0.1896 - accuracy: 0.9683 - val_loss: 0.4534 - val_accuracy: 0.8070\n",
      "Epoch 5/10\n",
      "40/40 [==============================] - 0s 4ms/step - loss: 0.0795 - accuracy: 0.9921 - val_loss: 0.4845 - val_accuracy: 0.8006\n",
      "Epoch 6/10\n",
      "40/40 [==============================] - 0s 4ms/step - loss: 0.0361 - accuracy: 0.9992 - val_loss: 0.5313 - val_accuracy: 0.7943\n",
      "Epoch 7/10\n",
      "40/40 [==============================] - 0s 4ms/step - loss: 0.0200 - accuracy: 1.0000 - val_loss: 0.5755 - val_accuracy: 0.7848\n",
      "Epoch 8/10\n",
      "40/40 [==============================] - 0s 4ms/step - loss: 0.0131 - accuracy: 1.0000 - val_loss: 0.6067 - val_accuracy: 0.7911\n",
      "Epoch 9/10\n",
      "40/40 [==============================] - 0s 4ms/step - loss: 0.0105 - accuracy: 1.0000 - val_loss: 0.6332 - val_accuracy: 0.7911\n",
      "Epoch 10/10\n",
      "40/40 [==============================] - 0s 4ms/step - loss: 0.0071 - accuracy: 1.0000 - val_loss: 0.6580 - val_accuracy: 0.7880\n",
      "13/13 [==============================] - 0s 2ms/step - loss: 0.6900 - accuracy: 0.7646\n"
     ]
    },
    {
     "data": {
      "text/plain": [
       "(0.6899516582489014, 0.7645569443702698)"
      ]
     },
     "execution_count": 13,
     "metadata": {},
     "output_type": "execute_result"
    }
   ],
   "source": [
    "# YOUR CODE HERE\n",
    "# Prepare the data\n",
    "\n",
    "# Vectorize the text using TF-IDF\n",
    "tfidf = TfidfVectorizer(max_features=5000, stop_words='english')\n",
    "X = tfidf.fit_transform(df['Review']).toarray()\n",
    "# Target variable\n",
    "y = df['Positive Review'].astype(int)\n",
    "# Train-test split\n",
    "X_train, X_test, y_train, y_test = train_test_split(\n",
    "    X, y, test_size=0.2, random_state=42, stratify=y)\n",
    "\n",
    "# Build neural network model\n",
    "nn_model = Sequential()\n",
    "nn_model.add(Dense(64, activation='relu', input_shape=(X_train.shape[1],)))\n",
    "nn_model.add(Dropout(0.3))\n",
    "nn_model.add(Dense(32, activation='relu'))\n",
    "nn_model.add(Dropout(0.3))\n",
    "nn_model.add(Dense(1, activation='sigmoid'))\n",
    "\n",
    "# Compile the model\n",
    "nn_model.compile(optimizer=Adam(learning_rate=0.001),\n",
    "                 loss='binary_crossentropy',\n",
    "                 metrics=['accuracy'])\n",
    "\n",
    "# Train the model\n",
    "history = nn_model.fit(\n",
    "    X_train, y_train,\n",
    "    validation_split=0.2,\n",
    "    epochs=10,\n",
    "    batch_size=32,\n",
    "    verbose=1\n",
    ")\n",
    "\n",
    "#Evaluate model on test data\n",
    "loss, accuracy = nn_model.evaluate(X_test, y_test)\n",
    "loss, accuracy\n"
   ]
  },
  {
   "cell_type": "code",
   "execution_count": null,
   "metadata": {},
   "outputs": [],
   "source": [
    "# Train acc = 1.00, val acc ~ 0.79-0.81, test acc = 0.765\n",
    "# val loss keep rising after epoch ~304"
   ]
  },
  {
   "cell_type": "code",
   "execution_count": 14,
   "metadata": {},
   "outputs": [
    {
     "data": {
      "image/png": "[encoded data removed]",
      "text/plain": [
       "<Figure size 864x288 with 2 Axes>"
      ]
     },
     "metadata": {
      "needs_background": "light"
     },
     "output_type": "display_data"
    }
   ],
   "source": [
    "# plot\n",
    "plt.figure(figsize=(12,4))\n",
    "plt.subplot(1,2,1)\n",
    "plt.plot(history.history['loss'], label='train')\n",
    "plt.plot(history.history['val_loss'], label='val')\n",
    "plt.title('Loss'); plt.legend()\n",
    "\n",
    "plt.subplot(1,2,2)\n",
    "plt.plot(history.history['accuracy'], label='train')\n",
    "plt.plot(history.history['val_accuracy'], label='val')\n",
    "plt.title('Accuracy'); plt.legend()\n",
    "plt.show()"
   ]
  },
  {
   "cell_type": "markdown",
   "metadata": {},
   "source": [
    "left plot: training loss sharply decreases and flattens around epoch 405.\n",
    "validation loss decreases briefly, then starts rising steadily, which is textbook overfitting pattern.\n",
    "model is memorizing training data while struggling to generalize\n",
    "\n",
    "right plot: training accuracy quickly climbs to near 100% \n",
    "validation accuracy plateaus early (~0.80) and decline slightly\n",
    "strong sign of overfitting"
   ]
  },
  {
   "cell_type": "code",
   "execution_count": 15,
   "metadata": {},
   "outputs": [
    {
     "name": "stdout",
     "output_type": "stream",
     "text": [
      "Epoch 1/20\n",
      "40/40 [==============================] - 0s 5ms/step - loss: 0.0057 - accuracy: 1.0000 - val_loss: 0.6831 - val_accuracy: 0.7975\n",
      "Epoch 2/20\n",
      "40/40 [==============================] - 0s 4ms/step - loss: 0.0044 - accuracy: 1.0000 - val_loss: 0.7072 - val_accuracy: 0.7880\n",
      "Epoch 3/20\n",
      "40/40 [==============================] - 0s 4ms/step - loss: 0.0038 - accuracy: 1.0000 - val_loss: 0.7204 - val_accuracy: 0.7911\n"
     ]
    }
   ],
   "source": [
    "from tensorflow.keras.callbacks import EarlyStopping, ReduceLROnPlateau\n",
    "\n",
    "early_stop = EarlyStopping(\n",
    "    monitor='val_loss',\n",
    "    patience=2,\n",
    "    restore_best_weights=True\n",
    ")\n",
    "\n",
    "reduce_lr = ReduceLROnPlateau(\n",
    "    monitor='val_loss',\n",
    "    factor=0.5,\n",
    "    patience=1\n",
    ")\n",
    "\n",
    "history = nn_model.fit(\n",
    "    X_train, y_train,\n",
    "    validation_split=0.2,\n",
    "    epochs=20,   # increase to give callbacks room to act\n",
    "    batch_size=32,\n",
    "    callbacks=[early_stop, reduce_lr],\n",
    "    verbose=1\n",
    ")\n"
   ]
  },
  {
   "cell_type": "markdown",
   "metadata": {},
   "source": [
    "Training stopped after 3 epochs, due to no improvement in val_loss for 2 rounds (patience=2)\n",
    "\n",
    "The model did not overfit badly — training stayed stable, and validation accuracy stayed around 0.79–0.80.\n",
    "\n",
    "Training accuracy is still 100%, but validation accuracy peaked at 0.7975, which is consistent with earlier results.\n",
    "\n",
    "ReduceLROnPlateau likely reduced learning rate after epoch 2, helping stabilize training."
   ]
  },
  {
   "cell_type": "code",
   "execution_count": 16,
   "metadata": {},
   "outputs": [
    {
     "name": "stdout",
     "output_type": "stream",
     "text": [
      "13/13 [==============================] - 0s 4ms/step - loss: 0.7170 - accuracy: 0.7595\n",
      "Test Loss: 0.7170, Test Accuracy: 0.7595\n"
     ]
    }
   ],
   "source": [
    "\n",
    "\n",
    "loss, accuracy = nn_model.evaluate(X_test, y_test)\n",
    "print(f\"Test Loss: {loss:.4f}, Test Accuracy: {accuracy:.4f}\")\n"
   ]
  },
  {
   "cell_type": "code",
   "execution_count": 18,
   "metadata": {},
   "outputs": [
    {
     "name": "stdout",
     "output_type": "stream",
     "text": [
      "Logistic Regression Test Accuracy: 0.8152\n"
     ]
    }
   ],
   "source": [
    "# comparing with simpler model\n",
    "from sklearn.linear_model import LogisticRegression\n",
    "from sklearn.metrics import accuracy_score\n",
    "# Train a logistic regression model\n",
    "lr_model = LogisticRegression(max_iter=1000)\n",
    "lr_model.fit(X_train, y_train)\n",
    "\n",
    "# Predict and evaluate\n",
    "y_pred_lr = lr_model.predict(X_test)\n",
    "lr_accuracy = accuracy_score(y_test, y_pred_lr)\n",
    "print(f\"Logistic Regression Test Accuracy: {lr_accuracy:.4f}\")\n"
   ]
  },
  {
   "cell_type": "markdown",
   "metadata": {},
   "source": [
    "### Part 5 Summary: Modeling & Evaluation\n",
    "\n",
    "I prepared the data by converting review text into TF-IDF vectors with a 5000-word vocabulary and removed English stop words. Then I trained two classification models:\n",
    "\n",
    "1. **Neural Network (2 hidden layers with dropout)**  \n",
    "   - Training Accuracy: 100%  \n",
    "   - Validation Accuracy: ~0.80 (peaked early)  \n",
    "   - Test Accuracy: ~0.76  \n",
    "   - Signs of overfitting were observed: training accuracy reached 1.0 quickly, while validation plateaued and then declined.  \n",
    "   - Implemented `EarlyStopping` and `ReduceLROnPlateau`, which helped stabilize training.\n",
    "\n",
    "2. **Logistic Regression (baseline model)**  \n",
    "   - Test Accuracy: **0.8152**  \n",
    "   - Outperformed the neural network in terms of generalization.\n",
    "\n",
    "**Conclusion**:  \n",
    "Despite the neural network’s complexity, logistic regression provided better test performance on this TF-IDF vectorized text classification task. This suggests that simple models can be quite effective with proper feature engineering.\n"
   ]
  },
  {
   "cell_type": "code",
   "execution_count": null,
   "metadata": {},
   "outputs": [],
   "source": []
  }
 ],
 "metadata": {
  "kernelspec": {
   "display_name": "Python 3",
   "language": "python",
   "name": "python3"
  },
  "language_info": {
   "codemirror_mode": {
    "name": "ipython",
    "version": 3
   },
   "file_extension": ".py",
   "mimetype": "text/x-python",
   "name": "python",
   "nbconvert_exporter": "python",
   "pygments_lexer": "ipython3",
   "version": "3.6.9"
  },
  "toc": {
   "base_numbering": 1,
   "nav_menu": {},
   "number_sections": false,
   "sideBar": true,
   "skip_h1_title": false,
   "title_cell": "Table of Contents",
   "title_sidebar": "Contents",
   "toc_cell": false,
   "toc_position": {},
   "toc_section_display": true,
   "toc_window_display": false
  },
  "varInspector": {
   "cols": {
    "lenName": 16,
    "lenType": 16,
    "lenVar": 40
   },
   "kernels_config": {
    "python": {
     "delete_cmd_postfix": "",
     "delete_cmd_prefix": "del ",
     "library": "var_list.py",
     "varRefreshCmd": "print(var_dic_list())"
    },
    "r": {
     "delete_cmd_postfix": ") ",
     "delete_cmd_prefix": "rm(",
     "library": "var_list.r",
     "varRefreshCmd": "cat(var_dic_list()) "
    }
   },
   "types_to_exclude": [
    "module",
    "function",
    "builtin_function_or_method",
    "instance",
    "_Feature"
   ],
   "window_display": false
  }
 },
 "nbformat": 4,
 "nbformat_minor": 2
}
